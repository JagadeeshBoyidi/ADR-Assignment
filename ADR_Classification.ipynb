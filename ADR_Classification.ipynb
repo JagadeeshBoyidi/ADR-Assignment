{
 "cells": [
  {
   "cell_type": "markdown",
   "metadata": {
    "colab_type": "text",
    "id": "RMTCHKhECQox"
   },
   "source": [
    "# ADR Classification"
   ]
  },
  {
   "cell_type": "code",
   "execution_count": null,
   "metadata": {
    "colab": {
     "autoexec": {
      "startup": false,
      "wait_interval": 0
     }
    },
    "colab_type": "code",
    "collapsed": false,
    "id": "Z1aX8h8YCQo0",
    "scrolled": true
   },
   "outputs": [],
   "source": [
    "import numpy as np\n",
    "import tensorflow as tf"
   ]
  },
  {
   "cell_type": "markdown",
   "metadata": {
    "colab_type": "text",
    "id": "fNA7dcNICQo4"
   },
   "source": [
    "Set the seed"
   ]
  },
  {
   "cell_type": "code",
   "execution_count": null,
   "metadata": {
    "colab": {
     "autoexec": {
      "startup": false,
      "wait_interval": 0
     }
    },
    "colab_type": "code",
    "collapsed": true,
    "id": "-ZW20_U_CQo5",
    "scrolled": true
   },
   "outputs": [],
   "source": [
    "np.random.seed(42)"
   ]
  },
  {
   "cell_type": "code",
   "execution_count": null,
   "metadata": {
    "colab": {
     "autoexec": {
      "startup": false,
      "wait_interval": 0
     }
    },
    "colab_type": "code",
    "collapsed": true,
    "id": "YHiOaBuCCQo_",
    "scrolled": true
   },
   "outputs": [],
   "source": [
    "import pandas as pd"
   ]
  },
  {
   "cell_type": "markdown",
   "metadata": {
    "colab_type": "text",
    "id": "wXpj_Y1pCQpE"
   },
   "source": [
    "Import the dataset"
   ]
  },
  {
   "cell_type": "code",
   "execution_count": null,
   "metadata": {
    "collapsed": false,
    "scrolled": true
   },
   "outputs": [],
   "source": [
    "df = pd.read_csv('C:/Users/Jagadeesh/Desktop/DS assignment 2 - ADR Clasification/data.csv')"
   ]
  },
  {
   "cell_type": "markdown",
   "metadata": {
    "colab_type": "text",
    "id": "Vqpr2lz0CQpM"
   },
   "source": [
    "shape of the data frame"
   ]
  },
  {
   "cell_type": "code",
   "execution_count": null,
   "metadata": {
    "colab": {
     "autoexec": {
      "startup": false,
      "wait_interval": 0
     },
     "base_uri": "https://localhost:8080/",
     "height": 34
    },
    "colab_type": "code",
    "collapsed": false,
    "executionInfo": {
     "elapsed": 966,
     "status": "ok",
     "timestamp": 1532201686562,
     "user": {
      "displayName": "jagadeesh boyidi",
      "photoUrl": "//lh6.googleusercontent.com/-RCV9hgF7-DI/AAAAAAAAAAI/AAAAAAAAEBM/evMJz3bK8dI/s50-c-k-no/photo.jpg",
      "userId": "114898736862980433215"
     },
     "user_tz": -330
    },
    "id": "VuTSqbA6CQpO",
    "outputId": "30f62921-61a7-48a2-8512-1671d5495642",
    "scrolled": true
   },
   "outputs": [],
   "source": [
    "df.shape"
   ]
  },
  {
   "cell_type": "markdown",
   "metadata": {
    "colab_type": "text",
    "id": "5Pcv9bP6CQpY"
   },
   "source": [
    "view the first 20 rows"
   ]
  },
  {
   "cell_type": "code",
   "execution_count": null,
   "metadata": {
    "colab": {
     "autoexec": {
      "startup": false,
      "wait_interval": 0
     },
     "base_uri": "https://localhost:8080/",
     "height": 204
    },
    "colab_type": "code",
    "collapsed": false,
    "executionInfo": {
     "elapsed": 1197,
     "status": "ok",
     "timestamp": 1532201687998,
     "user": {
      "displayName": "jagadeesh boyidi",
      "photoUrl": "//lh6.googleusercontent.com/-RCV9hgF7-DI/AAAAAAAAAAI/AAAAAAAAEBM/evMJz3bK8dI/s50-c-k-no/photo.jpg",
      "userId": "114898736862980433215"
     },
     "user_tz": -330
    },
    "id": "o9FBVPsbCQpZ",
    "outputId": "a57cb693-113a-4190-d86d-17ab50939b93",
    "scrolled": true
   },
   "outputs": [],
   "source": [
    "df.head(20)"
   ]
  },
  {
   "cell_type": "markdown",
   "metadata": {
    "colab_type": "text",
    "id": "BcwagcKeCQph"
   },
   "source": [
    "Removing the duplicate tweets"
   ]
  },
  {
   "cell_type": "code",
   "execution_count": null,
   "metadata": {
    "colab": {
     "autoexec": {
      "startup": false,
      "wait_interval": 0
     }
    },
    "colab_type": "code",
    "collapsed": true,
    "id": "lCSI6yHdCQpj",
    "scrolled": true
   },
   "outputs": [],
   "source": [
    "df = df.drop_duplicates(['Tweet'])"
   ]
  },
  {
   "cell_type": "code",
   "execution_count": null,
   "metadata": {
    "colab": {
     "autoexec": {
      "startup": false,
      "wait_interval": 0
     },
     "base_uri": "https://localhost:8080/",
     "height": 34
    },
    "colab_type": "code",
    "collapsed": false,
    "executionInfo": {
     "elapsed": 1081,
     "status": "ok",
     "timestamp": 1532201690778,
     "user": {
      "displayName": "jagadeesh boyidi",
      "photoUrl": "//lh6.googleusercontent.com/-RCV9hgF7-DI/AAAAAAAAAAI/AAAAAAAAEBM/evMJz3bK8dI/s50-c-k-no/photo.jpg",
      "userId": "114898736862980433215"
     },
     "user_tz": -330
    },
    "id": "Mx7moaaTCQpo",
    "outputId": "aedac8c9-dbd2-4f8b-dc94-6688da0544bb",
    "scrolled": true
   },
   "outputs": [],
   "source": [
    "df.shape"
   ]
  },
  {
   "cell_type": "markdown",
   "metadata": {
    "colab_type": "text",
    "id": "Z5ujBIauCQpw"
   },
   "source": [
    "Split data into Training and Testing data"
   ]
  },
  {
   "cell_type": "code",
   "execution_count": null,
   "metadata": {
    "colab": {
     "autoexec": {
      "startup": false,
      "wait_interval": 0
     }
    },
    "colab_type": "code",
    "collapsed": true,
    "id": "hsRkme2ZCQpx",
    "scrolled": true
   },
   "outputs": [],
   "source": [
    "from sklearn.model_selection import train_test_split"
   ]
  },
  {
   "cell_type": "code",
   "execution_count": null,
   "metadata": {
    "colab": {
     "autoexec": {
      "startup": false,
      "wait_interval": 0
     }
    },
    "colab_type": "code",
    "collapsed": true,
    "id": "rbQciVHbCQp2",
    "scrolled": true
   },
   "outputs": [],
   "source": [
    "X_train, X_test, y_train, y_test = train_test_split(\n",
    "    df['Tweet'],\n",
    "    df['ADR_label'],\n",
    "    test_size = 0.2,\n",
    "    random_state = 42\n",
    "    \n",
    ")"
   ]
  },
  {
   "cell_type": "code",
   "execution_count": null,
   "metadata": {
    "colab": {
     "autoexec": {
      "startup": false,
      "wait_interval": 0
     },
     "base_uri": "https://localhost:8080/",
     "height": 34
    },
    "colab_type": "code",
    "collapsed": false,
    "executionInfo": {
     "elapsed": 1213,
     "status": "ok",
     "timestamp": 1532201700381,
     "user": {
      "displayName": "jagadeesh boyidi",
      "photoUrl": "//lh6.googleusercontent.com/-RCV9hgF7-DI/AAAAAAAAAAI/AAAAAAAAEBM/evMJz3bK8dI/s50-c-k-no/photo.jpg",
      "userId": "114898736862980433215"
     },
     "user_tz": -330
    },
    "id": "7ocTFroFCQp7",
    "outputId": "6af346e5-9884-4100-c251-6b009e407e7a",
    "scrolled": true
   },
   "outputs": [],
   "source": [
    "X_train.shape"
   ]
  },
  {
   "cell_type": "markdown",
   "metadata": {
    "colab_type": "text",
    "id": "LIALEgHXCQqF"
   },
   "source": [
    "# Build the Tokenizer"
   ]
  },
  {
   "cell_type": "code",
   "execution_count": null,
   "metadata": {
    "colab": {
     "autoexec": {
      "startup": false,
      "wait_interval": 0
     }
    },
    "colab_type": "code",
    "collapsed": true,
    "id": "CuXaWNGFCQqI",
    "scrolled": true
   },
   "outputs": [],
   "source": [
    "from tensorflow.python.keras.preprocessing.text import Tokenizer"
   ]
  },
  {
   "cell_type": "markdown",
   "metadata": {
    "colab_type": "text",
    "id": "2ewf7XgSCQqL"
   },
   "source": [
    "Most frequent number of words"
   ]
  },
  {
   "cell_type": "code",
   "execution_count": null,
   "metadata": {
    "colab": {
     "autoexec": {
      "startup": false,
      "wait_interval": 0
     }
    },
    "colab_type": "code",
    "collapsed": true,
    "id": "B-PzkyPRCQqM",
    "scrolled": true
   },
   "outputs": [],
   "source": [
    "top_words = 25000"
   ]
  },
  {
   "cell_type": "code",
   "execution_count": null,
   "metadata": {
    "colab": {
     "autoexec": {
      "startup": false,
      "wait_interval": 0
     }
    },
    "colab_type": "code",
    "collapsed": true,
    "id": "2z1MIJ8GCQqT",
    "scrolled": true
   },
   "outputs": [],
   "source": [
    "t = Tokenizer(num_words = top_words)"
   ]
  },
  {
   "cell_type": "code",
   "execution_count": null,
   "metadata": {
    "colab": {
     "autoexec": {
      "startup": false,
      "wait_interval": 0
     }
    },
    "colab_type": "code",
    "collapsed": true,
    "id": "D7OFidRrCQqZ",
    "scrolled": true
   },
   "outputs": [],
   "source": [
    "t.fit_on_texts(X_train.tolist())"
   ]
  },
  {
   "cell_type": "markdown",
   "metadata": {
    "colab_type": "text",
    "id": "IOTjz25kCQqh"
   },
   "source": [
    "# Preparing Training and Testing Data"
   ]
  },
  {
   "cell_type": "markdown",
   "metadata": {
    "colab_type": "text",
    "id": "6BOkonlNCQqk"
   },
   "source": [
    "Get the word index for each of the word in the review"
   ]
  },
  {
   "cell_type": "code",
   "execution_count": null,
   "metadata": {
    "colab": {
     "autoexec": {
      "startup": false,
      "wait_interval": 0
     }
    },
    "colab_type": "code",
    "collapsed": true,
    "id": "hmJIYwRdCQql",
    "scrolled": true
   },
   "outputs": [],
   "source": [
    "X_train = t.texts_to_sequences(X_train.tolist())"
   ]
  },
  {
   "cell_type": "code",
   "execution_count": null,
   "metadata": {
    "colab": {
     "autoexec": {
      "startup": false,
      "wait_interval": 0
     }
    },
    "colab_type": "code",
    "collapsed": true,
    "id": "3wyPghIMCQqr",
    "scrolled": true
   },
   "outputs": [],
   "source": [
    "X_test = t.texts_to_sequences(X_test.tolist())"
   ]
  },
  {
   "cell_type": "markdown",
   "metadata": {
    "colab_type": "text",
    "id": "if7sG0eXCQqw"
   },
   "source": [
    "# Pad Sequences"
   ]
  },
  {
   "cell_type": "code",
   "execution_count": null,
   "metadata": {
    "colab": {
     "autoexec": {
      "startup": false,
      "wait_interval": 0
     }
    },
    "colab_type": "code",
    "collapsed": true,
    "id": "LxzRyMuyCQqy",
    "scrolled": true
   },
   "outputs": [],
   "source": [
    "from tensorflow.python.keras.preprocessing import sequence"
   ]
  },
  {
   "cell_type": "code",
   "execution_count": null,
   "metadata": {
    "colab": {
     "autoexec": {
      "startup": false,
      "wait_interval": 0
     }
    },
    "colab_type": "code",
    "collapsed": true,
    "id": "EluivtWRCQq2",
    "scrolled": true
   },
   "outputs": [],
   "source": [
    "max_input_length = 150"
   ]
  },
  {
   "cell_type": "code",
   "execution_count": null,
   "metadata": {
    "colab": {
     "autoexec": {
      "startup": false,
      "wait_interval": 0
     }
    },
    "colab_type": "code",
    "collapsed": true,
    "id": "njgf9xShCQq7",
    "scrolled": true
   },
   "outputs": [],
   "source": [
    "X_train = sequence.pad_sequences(X_train, maxlen = max_input_length, padding = 'post')"
   ]
  },
  {
   "cell_type": "code",
   "execution_count": null,
   "metadata": {
    "colab": {
     "autoexec": {
      "startup": false,
      "wait_interval": 0
     }
    },
    "colab_type": "code",
    "collapsed": true,
    "id": "rpJ2SX8SCQq9",
    "scrolled": true
   },
   "outputs": [],
   "source": [
    "X_test = sequence.pad_sequences(X_test, maxlen = max_input_length, padding = 'post')"
   ]
  },
  {
   "cell_type": "markdown",
   "metadata": {
    "colab_type": "text",
    "id": "p6UlLpigCQrB"
   },
   "source": [
    "# Defining embedding layer configuration"
   ]
  },
  {
   "cell_type": "code",
   "execution_count": null,
   "metadata": {
    "colab": {
     "autoexec": {
      "startup": false,
      "wait_interval": 0
     }
    },
    "colab_type": "code",
    "collapsed": true,
    "id": "Gb8-ZzIlCQrC",
    "scrolled": true
   },
   "outputs": [],
   "source": [
    "embedding_vector_length = 75"
   ]
  },
  {
   "cell_type": "markdown",
   "metadata": {
    "colab_type": "text",
    "id": "MzD6pL1LCQrI"
   },
   "source": [
    "# Build the Graph"
   ]
  },
  {
   "cell_type": "code",
   "execution_count": null,
   "metadata": {
    "colab": {
     "autoexec": {
      "startup": false,
      "wait_interval": 0
     }
    },
    "colab_type": "code",
    "collapsed": true,
    "id": "uXhVtvFhCQrK",
    "scrolled": true
   },
   "outputs": [],
   "source": [
    "from tensorflow.python.keras.models import Sequential"
   ]
  },
  {
   "cell_type": "code",
   "execution_count": null,
   "metadata": {
    "colab": {
     "autoexec": {
      "startup": false,
      "wait_interval": 0
     }
    },
    "colab_type": "code",
    "collapsed": true,
    "id": "-cZECedLCQrR",
    "scrolled": true
   },
   "outputs": [],
   "source": [
    "from tensorflow.python.keras.layers import Dropout, Dense, Embedding, Flatten"
   ]
  },
  {
   "cell_type": "code",
   "execution_count": null,
   "metadata": {
    "colab": {
     "autoexec": {
      "startup": false,
      "wait_interval": 0
     }
    },
    "colab_type": "code",
    "collapsed": true,
    "id": "YjnZ6tkICQrh",
    "scrolled": true
   },
   "outputs": [],
   "source": [
    "model = Sequential()"
   ]
  },
  {
   "cell_type": "markdown",
   "metadata": {
    "colab_type": "text",
    "id": "bJc0H3AKCQrm"
   },
   "source": [
    "Add embedded layer"
   ]
  },
  {
   "cell_type": "code",
   "execution_count": null,
   "metadata": {
    "colab": {
     "autoexec": {
      "startup": false,
      "wait_interval": 0
     }
    },
    "colab_type": "code",
    "collapsed": true,
    "id": "fdrt2KvMCQrn",
    "scrolled": true
   },
   "outputs": [],
   "source": [
    "model.add(\n",
    "        Embedding (top_words+1,\n",
    "                  embedding_vector_length,\n",
    "                  input_length= max_input_length)\n",
    "            )"
   ]
  },
  {
   "cell_type": "code",
   "execution_count": null,
   "metadata": {
    "colab": {
     "autoexec": {
      "startup": false,
      "wait_interval": 0
     }
    },
    "colab_type": "code",
    "collapsed": true,
    "id": "185JBMdbCQrr",
    "scrolled": true
   },
   "outputs": [],
   "source": [
    "model.add(Flatten())"
   ]
  },
  {
   "cell_type": "code",
   "execution_count": null,
   "metadata": {
    "colab": {
     "autoexec": {
      "startup": false,
      "wait_interval": 0
     }
    },
    "colab_type": "code",
    "collapsed": true,
    "id": "jRp6uLXTCQry",
    "scrolled": true
   },
   "outputs": [],
   "source": [
    "model.add(Dense(200,activation = 'relu'))"
   ]
  },
  {
   "cell_type": "code",
   "execution_count": null,
   "metadata": {
    "colab": {
     "autoexec": {
      "startup": false,
      "wait_interval": 0
     }
    },
    "colab_type": "code",
    "collapsed": true,
    "id": "-qlcccchCQr4",
    "scrolled": true
   },
   "outputs": [],
   "source": [
    "model.add(Dense(100,activation = 'relu'))"
   ]
  },
  {
   "cell_type": "code",
   "execution_count": null,
   "metadata": {
    "colab": {
     "autoexec": {
      "startup": false,
      "wait_interval": 0
     }
    },
    "colab_type": "code",
    "collapsed": true,
    "id": "P8-Jzt9dCQr9",
    "scrolled": true
   },
   "outputs": [],
   "source": [
    "model.add(Dense(60,activation = 'relu'))"
   ]
  },
  {
   "cell_type": "code",
   "execution_count": null,
   "metadata": {
    "colab": {
     "autoexec": {
      "startup": false,
      "wait_interval": 0
     }
    },
    "colab_type": "code",
    "collapsed": true,
    "id": "0YI8BsUgCQsF",
    "scrolled": true
   },
   "outputs": [],
   "source": [
    "model.add(Dense(30,activation = 'relu'))"
   ]
  },
  {
   "cell_type": "code",
   "execution_count": null,
   "metadata": {
    "colab": {
     "autoexec": {
      "startup": false,
      "wait_interval": 0
     }
    },
    "colab_type": "code",
    "collapsed": true,
    "id": "8GmdRrVSCQsJ",
    "scrolled": true
   },
   "outputs": [],
   "source": [
    "model.add(Dense(1,activation = 'sigmoid'))"
   ]
  },
  {
   "cell_type": "code",
   "execution_count": null,
   "metadata": {
    "colab": {
     "autoexec": {
      "startup": false,
      "wait_interval": 0
     }
    },
    "colab_type": "code",
    "collapsed": true,
    "id": "67CARo6JCQsO",
    "scrolled": true
   },
   "outputs": [],
   "source": [
    "model.compile(optimizer = 'adam', loss ='binary_crossentropy',metrics = ['accuracy'])"
   ]
  },
  {
   "cell_type": "markdown",
   "metadata": {
    "colab_type": "text",
    "id": "vpMKjdvnCQsW"
   },
   "source": [
    "# Execute the Graph"
   ]
  },
  {
   "cell_type": "code",
   "execution_count": null,
   "metadata": {
    "colab": {
     "autoexec": {
      "startup": false,
      "wait_interval": 0
     },
     "base_uri": "https://localhost:8080/",
     "height": 513
    },
    "colab_type": "code",
    "collapsed": false,
    "executionInfo": {
     "elapsed": 25803,
     "status": "ok",
     "timestamp": 1532201769740,
     "user": {
      "displayName": "jagadeesh boyidi",
      "photoUrl": "//lh6.googleusercontent.com/-RCV9hgF7-DI/AAAAAAAAAAI/AAAAAAAAEBM/evMJz3bK8dI/s50-c-k-no/photo.jpg",
      "userId": "114898736862980433215"
     },
     "user_tz": -330
    },
    "id": "G_RwRcI3CQsY",
    "outputId": "1b4a5b24-c139-42e0-d2fe-4a8514d8d9c0",
    "scrolled": true
   },
   "outputs": [],
   "source": [
    "model.fit(X_train, y_train,\n",
    "         epochs = 12,\n",
    "         batch_size = 128,\n",
    "         validation_data = (X_test, y_test)\n",
    "         )"
   ]
  },
  {
   "cell_type": "raw",
   "metadata": {
    "collapsed": false,
    "scrolled": true
   },
   "source": [
    "model.summary()"
   ]
  },
  {
   "cell_type": "code",
   "execution_count": null,
   "metadata": {
    "collapsed": false
   },
   "outputs": [],
   "source": [
    "predictions = model.predict(X_train)\n",
    " \n",
    "score = model.evaluate(X_train,y_train,verbose=0)\n",
    "print('Train loss:', score[0])\n",
    "print('Train accuracy:', score[1])\n",
    "\n"
   ]
  },
  {
   "cell_type": "code",
   "execution_count": null,
   "metadata": {
    "collapsed": false
   },
   "outputs": [],
   "source": [
    "predictions = model.predict(X_test)\n",
    " \n",
    "score = model.evaluate(X_test, y_test, verbose=0)\n",
    "print('Test loss:', score[0])\n",
    "print('Test accuracy:', score[1])\n"
   ]
  }
 ],
 "metadata": {
  "accelerator": "GPU",
  "colab": {
   "default_view": {},
   "name": "ADR Classification.ipynb",
   "provenance": [],
   "version": "0.3.2",
   "views": {}
  },
  "kernelspec": {
   "display_name": "Python 3",
   "language": "python",
   "name": "python3"
  },
  "language_info": {
   "codemirror_mode": {
    "name": "ipython",
    "version": 3
   },
   "file_extension": ".py",
   "mimetype": "text/x-python",
   "name": "python",
   "nbconvert_exporter": "python",
   "pygments_lexer": "ipython3",
   "version": "3.6.0"
  }
 },
 "nbformat": 4,
 "nbformat_minor": 0
}
